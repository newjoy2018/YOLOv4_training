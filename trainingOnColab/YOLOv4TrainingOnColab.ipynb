{
  "nbformat": 4,
  "nbformat_minor": 0,
  "metadata": {
    "colab": {
      "name": "YOLOv4TrainingOnColab.ipynb",
      "provenance": [],
      "collapsed_sections": []
    },
    "kernelspec": {
      "name": "python3",
      "display_name": "Python 3"
    }
  },
  "cells": [
    {
      "cell_type": "markdown",
      "metadata": {
        "id": "u01ZS4Ju7iF4",
        "colab_type": "text"
      },
      "source": [
        "# YOLOv4 Training on Colab\n",
        "\n",
        "##1. Set GPU mode\n",
        "##2. load Google Drive"
      ]
    },
    {
      "cell_type": "code",
      "metadata": {
        "id": "sNnrekUQ4TJY",
        "colab_type": "code",
        "colab": {}
      },
      "source": [
        "# Set GPU mode\n",
        "\n",
        "# load Google Drive\n",
        "from google.colab import drive\n",
        "drive.mount('/content/drive')"
      ],
      "execution_count": null,
      "outputs": []
    },
    {
      "cell_type": "markdown",
      "metadata": {
        "id": "qp4iOJgSGA5d",
        "colab_type": "text"
      },
      "source": [
        "##3.Clone darknet from Github to My Drive"
      ]
    },
    {
      "cell_type": "code",
      "metadata": {
        "id": "Su4j89p47ChX",
        "colab_type": "code",
        "colab": {}
      },
      "source": [
        "%cd drive/My\\ Drive\n",
        "!git clone https://github.com/AlexeyAB/darknet.git"
      ],
      "execution_count": null,
      "outputs": []
    },
    {
      "cell_type": "markdown",
      "metadata": {
        "id": "-4DKv_W9GL5f",
        "colab_type": "text"
      },
      "source": [
        "##4.Modify the **Makefile** and **Compile**"
      ]
    },
    {
      "cell_type": "code",
      "metadata": {
        "id": "YGaguIoR7KcV",
        "colab_type": "code",
        "colab": {}
      },
      "source": [
        "%cd darknet\n",
        "\n",
        "!sed -i 's/OPENCV=0/OPENCV=1/' Makefile\n",
        "!sed -i 's/GPU=0/GPU=1/' Makefile\n",
        "!sed -i 's/CUDNN=0/CUDNN=1/' Makefile\n",
        "\n",
        "!make"
      ],
      "execution_count": null,
      "outputs": []
    },
    {
      "cell_type": "markdown",
      "metadata": {
        "id": "tPAq1nbsGd_h",
        "colab_type": "text"
      },
      "source": [
        "##5. Load dataset and configuration files"
      ]
    },
    {
      "cell_type": "code",
      "metadata": {
        "id": "f5LsI3fE7Q9h",
        "colab_type": "code",
        "colab": {}
      },
      "source": [
        "%cd ..\n",
        "!mv KITMoMa/ darknet\n",
        "%cd darknet"
      ],
      "execution_count": null,
      "outputs": []
    },
    {
      "cell_type": "markdown",
      "metadata": {
        "id": "HmgG1t2JGqKv",
        "colab_type": "text"
      },
      "source": [
        "##6. Start training"
      ]
    },
    {
      "cell_type": "code",
      "metadata": {
        "id": "j6pAKFypGuwV",
        "colab_type": "code",
        "colab": {}
      },
      "source": [
        "!./darknet detector train KITMoMa/obj.data KITMoMa/yolo-obj.cfg KITMoMa/backup/yolo-obj_last.weights -dont_show -map"
      ],
      "execution_count": null,
      "outputs": []
    }
  ]
}